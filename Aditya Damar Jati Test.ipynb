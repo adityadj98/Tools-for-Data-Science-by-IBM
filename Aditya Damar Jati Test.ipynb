{
  "metadata": {
    "language_info": {
      "codemirror_mode": {
        "name": "python",
        "version": 3
      },
      "file_extension": ".py",
      "mimetype": "text/x-python",
      "name": "python",
      "nbconvert_exporter": "python",
      "pygments_lexer": "ipython3",
      "version": "3.8"
    },
    "kernelspec": {
      "name": "python",
      "display_name": "Python (Pyodide)",
      "language": "python"
    }
  },
  "nbformat_minor": 4,
  "nbformat": 4,
  "cells": [
    {
      "cell_type": "markdown",
      "source": "# My Jupyter Notebook on IBM Watson Studio",
      "metadata": {
        "trusted": true
      }
    },
    {
      "cell_type": "markdown",
      "source": "**Aditya Damar Jati**",
      "metadata": {
        "trusted": true
      }
    },
    {
      "cell_type": "markdown",
      "source": "*I am interested in data science because I want to be a consultant for any type business*",
      "metadata": {
        "trusted": true
      }
    },
    {
      "cell_type": "markdown",
      "source": "### The below supposed be a sum function",
      "metadata": {
        "trusted": true
      }
    },
    {
      "cell_type": "code",
      "source": "x = 1 + 1 \nprint(x)",
      "metadata": {
        "trusted": true
      },
      "execution_count": 4,
      "outputs": [
        {
          "name": "stdout",
          "text": "2\n",
          "output_type": "stream"
        }
      ]
    }
  ]
}